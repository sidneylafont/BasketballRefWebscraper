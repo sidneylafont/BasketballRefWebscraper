{
 "cells": [
  {
   "cell_type": "code",
   "execution_count": 13,
   "metadata": {},
   "outputs": [],
   "source": [
    "import urllib.request as urllib\n",
    "from bs4 import BeautifulSoup\n",
    "import pandas as pd\n",
    "import re\n",
    "\n",
    "url = \"https://www.basketball-reference.com\"\n",
    "urlWithPlayer = \"https://www.basketball-reference.com/players/\""
   ]
  },
  {
   "cell_type": "code",
   "execution_count": 33,
   "metadata": {},
   "outputs": [
    {
     "name": "stdout",
     "output_type": "stream",
     "text": [
      "<strong><a href=\"/players/a/abrinal01.html\">Álex Abrines</a></strong>\n",
      "<strong><a href=\"/players/a/acyqu01.html\">Quincy Acy</a></strong>\n",
      "<strong><a href=\"/players/a/adamsja01.html\">Jaylen Adams</a></strong>\n",
      "<strong><a href=\"/players/a/adamsst01.html\">Steven Adams</a></strong>\n",
      "<strong><a href=\"/players/a/adebaba01.html\">Bam Adebayo</a></strong>\n",
      "<strong><a href=\"/players/a/adelde01.html\">Deng Adel</a></strong>\n",
      "<strong><a href=\"/players/a/ajincal01.html\">Alexis Ajinça</a></strong>\n",
      "<strong><a href=\"/players/a/akoonde01.html\">DeVaughn Akoon-Purcell</a></strong>\n",
      "<strong><a href=\"/players/a/aldrico01.html\">Cole Aldrich</a></strong>\n",
      "<strong><a href=\"/players/a/aldrila01.html\">LaMarcus Aldridge</a></strong>\n",
      "<strong><a href=\"/players/a/alexani01.html\">Nickeil Alexander-Walker</a></strong>\n",
      "<strong><a href=\"/players/a/alkinra01.html\">Rawle Alkins</a></strong>\n",
      "<strong><a href=\"/players/a/allengr01.html\">Grayson Allen</a></strong>\n",
      "<strong><a href=\"/players/a/allenja01.html\">Jarrett Allen</a></strong>\n",
      "<strong><a href=\"/players/a/allenka01.html\">Kadeem Allen</a></strong>\n",
      "<strong><a href=\"/players/a/allenla01.html\">Lavoy Allen</a></strong>\n",
      "<strong><a href=\"/players/a/aminual01.html\">Al-Farouq Aminu</a></strong>\n",
      "<strong><a href=\"/players/a/anderju01.html\">Justin Anderson</a></strong>\n",
      "<strong><a href=\"/players/a/anderky01.html\">Kyle Anderson</a></strong>\n",
      "<strong><a href=\"/players/a/anderry01.html\">Ryan Anderson</a></strong>\n",
      "<strong><a href=\"/players/a/anigbik01.html\">Ike Anigbogu</a></strong>\n",
      "<strong><a href=\"/players/a/antetgi01.html\">Giannis Antetokounmpo</a></strong>\n",
      "<strong><a href=\"/players/a/antetko01.html\">Kostas Antetokounmpo</a></strong>\n",
      "<strong><a href=\"/players/a/antetth01.html\">Thanasis Antetokounmpo</a></strong>\n",
      "<strong><a href=\"/players/a/anthoca01.html\">Carmelo Anthony</a></strong>\n",
      "<strong><a href=\"/players/a/anunoog01.html\">OG Anunoby</a></strong>\n",
      "<strong><a href=\"/players/a/arcidry01.html\">Ryan Arcidiacono</a></strong>\n",
      "<strong><a href=\"/players/a/arizatr01.html\">Trevor Ariza</a></strong>\n",
      "<strong><a href=\"/players/a/artisja01.html\">Jamel Artis</a></strong>\n",
      "<strong><a href=\"/players/a/augusdj01.html\">D.J. Augustin</a></strong>\n",
      "<strong><a href=\"/players/a/aytonde01.html\">Deandre Ayton</a></strong>\n"
     ]
    }
   ],
   "source": [
    "import string\n",
    "#letters = list(string.ascii_lowercase)\n",
    "\n",
    "letters = [\"a\"]\n",
    "\n",
    "players = []\n",
    "\n",
    "for l in letters:\n",
    "    letterPage = urllib.urlopen(urlWithPlayer + l + \"/\")\n",
    "    letterSoup = BeautifulSoup(letterPage.read())\n",
    "    tbodyLetterSoup = letterSoup.find(\"tbody\")\n",
    "    for p in tbodyLetterSoup.findAll(\"strong\"):\n",
    "        player = {}\n",
    "        playerPage = urllib.urlopen(url + p.find(\"a\").get(\"href\").strip())\n",
    "        playerSoup = BeautifulSoup(playerPage.read())\n",
    "        tableplayerSoup = letterSoup.find(\"table\", id=\"totals\")\n",
    "        for year in tableplayerSoup"
   ]
  },
  {
   "cell_type": "code",
   "execution_count": 46,
   "metadata": {},
   "outputs": [
    {
     "name": "stdout",
     "output_type": "stream",
     "text": [
      "\n",
      "HERE\n"
     ]
    },
    {
     "ename": "TypeError",
     "evalue": "unsupported operand type(s) for +: 'Tag' and 'str'",
     "output_type": "error",
     "traceback": [
      "\u001b[0;31m---------------------------------------------------------------------------\u001b[0m",
      "\u001b[0;31mTypeError\u001b[0m                                 Traceback (most recent call last)",
      "\u001b[0;32m<ipython-input-46-136567c28652>\u001b[0m in \u001b[0;36m<module>\u001b[0;34m\u001b[0m\n\u001b[1;32m      4\u001b[0m \u001b[0;34m\u001b[0m\u001b[0m\n\u001b[1;32m      5\u001b[0m \u001b[0;32mfor\u001b[0m \u001b[0mr\u001b[0m \u001b[0;32min\u001b[0m \u001b[0mtableplayerSoup\u001b[0m\u001b[0;34m:\u001b[0m\u001b[0;34m\u001b[0m\u001b[0;34m\u001b[0m\u001b[0m\n\u001b[0;32m----> 6\u001b[0;31m     \u001b[0mprint\u001b[0m\u001b[0;34m(\u001b[0m\u001b[0mr\u001b[0m \u001b[0;34m+\u001b[0m \u001b[0;34m\"HERE\"\u001b[0m\u001b[0;34m)\u001b[0m\u001b[0;34m\u001b[0m\u001b[0;34m\u001b[0m\u001b[0m\n\u001b[0m",
      "\u001b[0;31mTypeError\u001b[0m: unsupported operand type(s) for +: 'Tag' and 'str'"
     ]
    }
   ],
   "source": [
    "playerPage = urllib.urlopen(\"https://www.basketball-reference.com/players/a/abrinal01.html\")\n",
    "playerSoup = BeautifulSoup(playerPage.read())\n",
    "tableplayerSoup = playerSoup.find(\"tbody\")\n",
    "\n",
    "for r in tableplayerSoup:\n",
    "    print(r + \"HERE\")\n"
   ]
  },
  {
   "cell_type": "code",
   "execution_count": null,
   "metadata": {},
   "outputs": [],
   "source": []
  }
 ],
 "metadata": {
  "kernelspec": {
   "display_name": "Python 3",
   "language": "python",
   "name": "python3"
  },
  "language_info": {
   "codemirror_mode": {
    "name": "ipython",
    "version": 3
   },
   "file_extension": ".py",
   "mimetype": "text/x-python",
   "name": "python",
   "nbconvert_exporter": "python",
   "pygments_lexer": "ipython3",
   "version": "3.7.3"
  }
 },
 "nbformat": 4,
 "nbformat_minor": 2
}
